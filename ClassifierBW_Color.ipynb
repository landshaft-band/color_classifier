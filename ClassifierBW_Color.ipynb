{
 "cells": [
  {
   "cell_type": "code",
   "execution_count": null,
   "id": "initial_id",
   "metadata": {
    "collapsed": true
   },
   "outputs": [],
   "source": [
    "import os\n",
    "import numpy as np\n",
    "import tensorflow as tf\n",
    "from tensorflow.keras.models import Sequential\n",
    "from tensorflow.keras.layers import Conv2D, Flatten, Dense, MaxPooling2D\n",
    "from tensorflow.keras.preprocessing.image import ImageDataGenerator, load_img, img_to_array\n",
    "from sklearn.model_selection import train_test_split\n",
    "import shutil\n",
    "import matplotlib.pyplot as plt\n",
    "from tensorflow.keras.layers import Dropout"
   ]
  },
  {
   "metadata": {},
   "cell_type": "code",
   "outputs": [],
   "execution_count": null,
   "source": "",
   "id": "3af95a31e028a4d7"
  },
  {
   "metadata": {},
   "cell_type": "markdown",
   "source": "**ПРЕДОБРАБОТКА**",
   "id": "3d377170c1175e1e"
  },
  {
   "metadata": {},
   "cell_type": "code",
   "outputs": [],
   "execution_count": null,
   "source": [
    "data_dir = 'data'\n",
    "categories = ['black_white', 'color']\n",
    "\n",
    "img_size = 64\n",
    "\n",
    "def load_data():\n",
    "    images = []\n",
    "    labels = []\n",
    "    for category in categories:\n",
    "        path = os.path.join(data_dir, category)\n",
    "        class_num = categories.index(category)  # 0 для bl_white и 1 для color\n",
    "        for img_name in os.listdir(path):\n",
    "            try:\n",
    "                img_path = os.path.join(path, img_name)\n",
    "                img = load_img(img_path, target_size=(img_size, img_size))\n",
    "                img_array = img_to_array(img)\n",
    "                images.append(img_array)\n",
    "                labels.append(class_num)\n",
    "            except Exception as e:\n",
    "                print(f\"Ошибка загрузки изображения {img_name}: {e}\")\n",
    "    return np.array(images), np.array(labels)\n",
    "\n",
    "X, y = load_data()\n",
    "X = X / 255.0\n",
    "\n",
    "X_train, X_test, y_train, y_test = train_test_split(X, y, test_size=0.2, random_state=42)"
   ],
   "id": "b5d30a1eac9dc8"
  },
  {
   "metadata": {},
   "cell_type": "markdown",
   "source": "**МОДЕЛЬ**",
   "id": "e8d497eb99366bbb"
  },
  {
   "metadata": {},
   "cell_type": "code",
   "outputs": [],
   "execution_count": null,
   "source": [
    "from tensorflow.keras.preprocessing.image import ImageDataGenerator\n",
    "from tensorflow.keras.models import Sequential\n",
    "from tensorflow.keras.layers import Conv2D, MaxPooling2D, Flatten, Dense, BatchNormalization\n",
    "from tensorflow.keras.callbacks import EarlyStopping\n",
    "\n",
    "datagen = ImageDataGenerator(\n",
    "    rotation_range=15,   \n",
    "    width_shift_range=0.1,\n",
    "    height_shift_range=0.1,\n",
    "    shear_range=0.1,\n",
    "    zoom_range=0.1,\n",
    "    horizontal_flip=True,\n",
    "    fill_mode='nearest'\n",
    ")\n",
    "\n",
    "train_generator = datagen.flow(X_train, y_train, batch_size=64)\n",
    "validation_generator = datagen.flow(X_test, y_test, batch_size=64, shuffle=False)\n",
    "\n",
    "model = Sequential([\n",
    "    BatchNormalization(),\n",
    "    Conv2D(32, (3, 3), activation='relu', input_shape=(64, 64, 3)),\n",
    "    \n",
    "    MaxPooling2D((2, 2)),\n",
    "\n",
    "    Conv2D(64, (3, 3), activation='relu'),\n",
    "    MaxPooling2D((2, 2)),\n",
    "    \n",
    "    Dropout(0.5),\n",
    "    \n",
    "    Conv2D(128, (3, 3), activation='relu'),\n",
    "    \n",
    "    MaxPooling2D((2, 2)),\n",
    "\n",
    "    Flatten(),\n",
    "    Dense(128, activation='relu'),\n",
    "    Dense(1, activation='sigmoid')\n",
    "])\n",
    "\n",
    "model.compile(optimizer='adam',\n",
    "              loss='binary_crossentropy',\n",
    "              metrics=['accuracy'])\n",
    "\n",
    "\n",
    "early_stopping = EarlyStopping(monitor='val_loss', patience=10, restore_best_weights=True)\n",
    "\n",
    "\n",
    "history = model.fit(\n",
    "    train_generator,                      \n",
    "    steps_per_epoch=len(X_train) // 32,  \n",
    "    validation_data=(X_test, y_test),    \n",
    "    epochs=80,                            \n",
    "    callbacks=[early_stopping]           \n",
    ")\n"
   ],
   "id": "3dd85635609ee127"
  },
  {
   "metadata": {},
   "cell_type": "markdown",
   "source": "**ДООБУЧЕНИЕ В СЛУЧАЕ НАДОБНОСТИ НА ОСНОВЕ УЖЕ ПОЛУЧЕННЫХ ВЕСОВ**",
   "id": "44277e759be86e0f"
  },
  {
   "metadata": {},
   "cell_type": "code",
   "outputs": [],
   "execution_count": null,
   "source": [
    "model.save_weights(\"model_weights.weights.h5\")\n",
    "model.load_weights(\"model_weights.weights.h5\")\n",
    "\n",
    "history_finetune = model.fit(\n",
    "    train_generator,  \n",
    "    steps_per_epoch=len(X_train) // 32,  \n",
    "    validation_data=validation_generator,  \n",
    "    epochs=20,  \n",
    "    callbacks=[early_stopping]\n",
    ")\n"
   ],
   "id": "f8f7a8058a9e9aef"
  },
  {
   "metadata": {},
   "cell_type": "markdown",
   "source": "**ПОСТРОЕНИЕ ГРАФИКА ОБУЧЕНИЯ. ЭПОХИ/ТОЧНОСТЬ**",
   "id": "ffb10ef8bbdc8866"
  },
  {
   "metadata": {},
   "cell_type": "code",
   "outputs": [],
   "execution_count": null,
   "source": [
    "import matplotlib.pyplot as plt\n",
    "\n",
    "plt.figure(figsize=(10, 6))\n",
    "plt.plot(history.history['accuracy'], label='Точность на обучении', color='blue', linestyle='-', marker='o')\n",
    "plt.plot(history.history['val_accuracy'], label='Точность на валидации', color='orange', linestyle='--', marker='x')\n",
    "plt.title('Точность модели на обучении и валидации', fontsize=16)\n",
    "plt.xlabel('Эпоха', fontsize=12)\n",
    "plt.ylabel('Точность', fontsize=12)\n",
    "plt.legend(loc='lower right', fontsize=12)\n",
    "plt.grid(True)\n",
    "plt.tight_layout()\n",
    "plt.show()"
   ],
   "id": "393f4364967ec1fc"
  },
  {
   "metadata": {},
   "cell_type": "markdown",
   "source": "",
   "id": "7dd63c251c55fc72"
  },
  {
   "metadata": {},
   "cell_type": "markdown",
   "source": "**КЛАССИФИКАЦИЯ**",
   "id": "78fc0d726e57efd2"
  },
  {
   "metadata": {},
   "cell_type": "code",
   "outputs": [],
   "execution_count": null,
   "source": [
    "import os\n",
    "import shutil\n",
    "import numpy as np\n",
    "from tensorflow.keras.preprocessing.image import load_img, img_to_array\n",
    "input_dir = 'unclassified_images'\n",
    "output_dir = 'classified_images'\n",
    "def classify_and_copy_images(input_dir, output_dir, model, img_size=64):\n",
    "    if not os.path.exists(output_dir):\n",
    "        os.makedirs(output_dir)\n",
    "\n",
    "    for img_name in os.listdir(input_dir):\n",
    "        img_path = os.path.join(input_dir, img_name)\n",
    "        img = load_img(img_path, target_size=(img_size, img_size))\n",
    "        img_array = img_to_array(img) / 255.0\n",
    "        img_array = np.expand_dims(img_array, axis=0)\n",
    "        prediction = model.predict(img_array)[0][0]  # Берём первый элемент массива\n",
    "        category = 'color' if prediction > 0.9 else 'black_white'\n",
    "        new_name = f\"{os.path.splitext(img_name)[0]}_{prediction:.4f}.jpg\"\n",
    "\n",
    "        dest_dir = os.path.join(output_dir, category)\n",
    "        if not os.path.exists(dest_dir):\n",
    "            os.makedirs(dest_dir)\n",
    "\n",
    "        new_path = os.path.join(dest_dir, new_name)\n",
    "\n",
    "        shutil.copy2(img_path, new_path)\n",
    "        print(f\"Копия {img_name} → {category}/{new_name} (Вероятность: {prediction:.4f})\")\n"
   ],
   "id": "c218164e05776865"
  },
  {
   "metadata": {},
   "cell_type": "markdown",
   "source": "**ЗАПУСК ФУНКЦИИ ОБРАБОТКИ ИЗОБРАЖЕНИЙ**",
   "id": "c30d9ebc4e80d706"
  },
  {
   "metadata": {},
   "cell_type": "code",
   "outputs": [],
   "execution_count": null,
   "source": "classify_and_copy_images(\"unclassified_images\", \"classified_images\", model)",
   "id": "8b9bffe3ffe9d348"
  }
 ],
 "metadata": {
  "kernelspec": {
   "display_name": "Python 3",
   "language": "python",
   "name": "python3"
  },
  "language_info": {
   "codemirror_mode": {
    "name": "ipython",
    "version": 2
   },
   "file_extension": ".py",
   "mimetype": "text/x-python",
   "name": "python",
   "nbconvert_exporter": "python",
   "pygments_lexer": "ipython2",
   "version": "2.7.6"
  }
 },
 "nbformat": 4,
 "nbformat_minor": 5
}
